{
  "nbformat": 4,
  "nbformat_minor": 0,
  "metadata": {
    "colab": {
      "name": "pyladies_estatistica",
      "provenance": [],
      "collapsed_sections": [],
      "include_colab_link": true
    },
    "kernelspec": {
      "name": "python3",
      "display_name": "Python 3"
    }
  },
  "cells": [
    {
      "cell_type": "markdown",
      "metadata": {
        "id": "view-in-github",
        "colab_type": "text"
      },
      "source": [
        "<a href=\"https://colab.research.google.com/github/lauranonato/Estatistica-Descritiva/blob/main/pyladies_estatistica.ipynb\" target=\"_parent\"><img src=\"https://colab.research.google.com/assets/colab-badge.svg\" alt=\"Open In Colab\"/></a>"
      ]
    },
    {
      "cell_type": "code",
      "metadata": {
        "id": "9bZyWBN6Kszu"
      },
      "source": [
        "#abrindo as bibliotecas\n",
        "import pandas as pd\n",
        "import matplotlib.pyplot as plt\n"
      ],
      "execution_count": null,
      "outputs": []
    },
    {
      "cell_type": "code",
      "metadata": {
        "id": "OhDJ1POEOCRQ",
        "outputId": "7de04abe-0aec-41e4-f535-ba6d71fcb371",
        "colab": {
          "resources": {
            "http://localhost:8080/nbextensions/google.colab/files.js": {
              "data": "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",
              "ok": true,
              "headers": [
                [
                  "content-type",
                  "application/javascript"
                ]
              ],
              "status": 200,
              "status_text": ""
            }
          },
          "base_uri": "https://localhost:8080/",
          "height": 74
        }
      },
      "source": [
        "from google.colab import files\n",
        "uploaded = files.upload()"
      ],
      "execution_count": null,
      "outputs": [
        {
          "output_type": "display_data",
          "data": {
            "text/html": [
              "\n",
              "     <input type=\"file\" id=\"files-30677d84-3ca7-4e39-9ef0-4338550015e6\" name=\"files[]\" multiple disabled />\n",
              "     <output id=\"result-30677d84-3ca7-4e39-9ef0-4338550015e6\">\n",
              "      Upload widget is only available when the cell has been executed in the\n",
              "      current browser session. Please rerun this cell to enable.\n",
              "      </output>\n",
              "      <script src=\"/nbextensions/google.colab/files.js\"></script> "
            ],
            "text/plain": [
              "<IPython.core.display.HTML object>"
            ]
          },
          "metadata": {
            "tags": []
          }
        },
        {
          "output_type": "stream",
          "text": [
            "Saving tips.csv to tips (5).csv\n"
          ],
          "name": "stdout"
        }
      ]
    },
    {
      "cell_type": "code",
      "metadata": {
        "id": "57UQYkNKON0w"
      },
      "source": [
        "#transformando o arquivo importado em um dataframe\n",
        "tips_data = pd.read_csv('tips.csv')"
      ],
      "execution_count": null,
      "outputs": []
    },
    {
      "cell_type": "code",
      "metadata": {
        "id": "oi-AvlP6PYGJ",
        "outputId": "15569c7b-833b-4509-97f2-39ab2565498f",
        "colab": {
          "base_uri": "https://localhost:8080/",
          "height": 204
        }
      },
      "source": [
        "#mostrar as setes primeiras linhas\n",
        "tips_data.head()\n"
      ],
      "execution_count": null,
      "outputs": [
        {
          "output_type": "execute_result",
          "data": {
            "text/html": [
              "<div>\n",
              "<style scoped>\n",
              "    .dataframe tbody tr th:only-of-type {\n",
              "        vertical-align: middle;\n",
              "    }\n",
              "\n",
              "    .dataframe tbody tr th {\n",
              "        vertical-align: top;\n",
              "    }\n",
              "\n",
              "    .dataframe thead th {\n",
              "        text-align: right;\n",
              "    }\n",
              "</style>\n",
              "<table border=\"1\" class=\"dataframe\">\n",
              "  <thead>\n",
              "    <tr style=\"text-align: right;\">\n",
              "      <th></th>\n",
              "      <th>total_conta</th>\n",
              "      <th>gorjeta</th>\n",
              "      <th>genero</th>\n",
              "      <th>fumante</th>\n",
              "      <th>dia</th>\n",
              "      <th>horario</th>\n",
              "      <th>pessoas_mesa</th>\n",
              "      <th>tempo_permanencia</th>\n",
              "    </tr>\n",
              "  </thead>\n",
              "  <tbody>\n",
              "    <tr>\n",
              "      <th>0</th>\n",
              "      <td>16.99</td>\n",
              "      <td>1.01</td>\n",
              "      <td>Feminino</td>\n",
              "      <td>nao</td>\n",
              "      <td>dom</td>\n",
              "      <td>jantar</td>\n",
              "      <td>2</td>\n",
              "      <td>41</td>\n",
              "    </tr>\n",
              "    <tr>\n",
              "      <th>1</th>\n",
              "      <td>10.34</td>\n",
              "      <td>1.66</td>\n",
              "      <td>Masculino</td>\n",
              "      <td>nao</td>\n",
              "      <td>dom</td>\n",
              "      <td>jantar</td>\n",
              "      <td>3</td>\n",
              "      <td>40</td>\n",
              "    </tr>\n",
              "    <tr>\n",
              "      <th>2</th>\n",
              "      <td>21.01</td>\n",
              "      <td>3.50</td>\n",
              "      <td>Masculino</td>\n",
              "      <td>nao</td>\n",
              "      <td>dom</td>\n",
              "      <td>jantar</td>\n",
              "      <td>3</td>\n",
              "      <td>49</td>\n",
              "    </tr>\n",
              "    <tr>\n",
              "      <th>3</th>\n",
              "      <td>23.68</td>\n",
              "      <td>3.31</td>\n",
              "      <td>Masculino</td>\n",
              "      <td>nao</td>\n",
              "      <td>dom</td>\n",
              "      <td>jantar</td>\n",
              "      <td>2</td>\n",
              "      <td>43</td>\n",
              "    </tr>\n",
              "    <tr>\n",
              "      <th>4</th>\n",
              "      <td>24.59</td>\n",
              "      <td>3.61</td>\n",
              "      <td>Feminino</td>\n",
              "      <td>nao</td>\n",
              "      <td>dom</td>\n",
              "      <td>jantar</td>\n",
              "      <td>4</td>\n",
              "      <td>34</td>\n",
              "    </tr>\n",
              "  </tbody>\n",
              "</table>\n",
              "</div>"
            ],
            "text/plain": [
              "   total_conta  gorjeta     genero  ... horario pessoas_mesa tempo_permanencia\n",
              "0        16.99     1.01   Feminino  ...  jantar            2                41\n",
              "1        10.34     1.66  Masculino  ...  jantar            3                40\n",
              "2        21.01     3.50  Masculino  ...  jantar            3                49\n",
              "3        23.68     3.31  Masculino  ...  jantar            2                43\n",
              "4        24.59     3.61   Feminino  ...  jantar            4                34\n",
              "\n",
              "[5 rows x 8 columns]"
            ]
          },
          "metadata": {
            "tags": []
          },
          "execution_count": 23
        }
      ]
    },
    {
      "cell_type": "code",
      "metadata": {
        "id": "CIQyo44hQW0y",
        "outputId": "835c1cc9-7815-4157-c76c-f8573509de2b",
        "colab": {
          "base_uri": "https://localhost:8080/",
          "height": 266
        }
      },
      "source": [
        "#mostrar as sete primeiras linhas\n",
        "tips_data.head(7)"
      ],
      "execution_count": null,
      "outputs": [
        {
          "output_type": "execute_result",
          "data": {
            "text/html": [
              "<div>\n",
              "<style scoped>\n",
              "    .dataframe tbody tr th:only-of-type {\n",
              "        vertical-align: middle;\n",
              "    }\n",
              "\n",
              "    .dataframe tbody tr th {\n",
              "        vertical-align: top;\n",
              "    }\n",
              "\n",
              "    .dataframe thead th {\n",
              "        text-align: right;\n",
              "    }\n",
              "</style>\n",
              "<table border=\"1\" class=\"dataframe\">\n",
              "  <thead>\n",
              "    <tr style=\"text-align: right;\">\n",
              "      <th></th>\n",
              "      <th>total_conta</th>\n",
              "      <th>gorjeta</th>\n",
              "      <th>genero</th>\n",
              "      <th>fumante</th>\n",
              "      <th>dia</th>\n",
              "      <th>horario</th>\n",
              "      <th>pessoas_mesa</th>\n",
              "      <th>tempo_permanencia</th>\n",
              "    </tr>\n",
              "  </thead>\n",
              "  <tbody>\n",
              "    <tr>\n",
              "      <th>0</th>\n",
              "      <td>16.99</td>\n",
              "      <td>1.01</td>\n",
              "      <td>Feminino</td>\n",
              "      <td>nao</td>\n",
              "      <td>dom</td>\n",
              "      <td>jantar</td>\n",
              "      <td>2</td>\n",
              "      <td>41</td>\n",
              "    </tr>\n",
              "    <tr>\n",
              "      <th>1</th>\n",
              "      <td>10.34</td>\n",
              "      <td>1.66</td>\n",
              "      <td>Masculino</td>\n",
              "      <td>nao</td>\n",
              "      <td>dom</td>\n",
              "      <td>jantar</td>\n",
              "      <td>3</td>\n",
              "      <td>40</td>\n",
              "    </tr>\n",
              "    <tr>\n",
              "      <th>2</th>\n",
              "      <td>21.01</td>\n",
              "      <td>3.50</td>\n",
              "      <td>Masculino</td>\n",
              "      <td>nao</td>\n",
              "      <td>dom</td>\n",
              "      <td>jantar</td>\n",
              "      <td>3</td>\n",
              "      <td>49</td>\n",
              "    </tr>\n",
              "    <tr>\n",
              "      <th>3</th>\n",
              "      <td>23.68</td>\n",
              "      <td>3.31</td>\n",
              "      <td>Masculino</td>\n",
              "      <td>nao</td>\n",
              "      <td>dom</td>\n",
              "      <td>jantar</td>\n",
              "      <td>2</td>\n",
              "      <td>43</td>\n",
              "    </tr>\n",
              "    <tr>\n",
              "      <th>4</th>\n",
              "      <td>24.59</td>\n",
              "      <td>3.61</td>\n",
              "      <td>Feminino</td>\n",
              "      <td>nao</td>\n",
              "      <td>dom</td>\n",
              "      <td>jantar</td>\n",
              "      <td>4</td>\n",
              "      <td>34</td>\n",
              "    </tr>\n",
              "    <tr>\n",
              "      <th>5</th>\n",
              "      <td>25.29</td>\n",
              "      <td>4.71</td>\n",
              "      <td>Masculino</td>\n",
              "      <td>nao</td>\n",
              "      <td>dom</td>\n",
              "      <td>jantar</td>\n",
              "      <td>4</td>\n",
              "      <td>39</td>\n",
              "    </tr>\n",
              "    <tr>\n",
              "      <th>6</th>\n",
              "      <td>8.77</td>\n",
              "      <td>2.00</td>\n",
              "      <td>Masculino</td>\n",
              "      <td>nao</td>\n",
              "      <td>dom</td>\n",
              "      <td>jantar</td>\n",
              "      <td>2</td>\n",
              "      <td>41</td>\n",
              "    </tr>\n",
              "  </tbody>\n",
              "</table>\n",
              "</div>"
            ],
            "text/plain": [
              "   total_conta  gorjeta     genero  ... horario pessoas_mesa tempo_permanencia\n",
              "0        16.99     1.01   Feminino  ...  jantar            2                41\n",
              "1        10.34     1.66  Masculino  ...  jantar            3                40\n",
              "2        21.01     3.50  Masculino  ...  jantar            3                49\n",
              "3        23.68     3.31  Masculino  ...  jantar            2                43\n",
              "4        24.59     3.61   Feminino  ...  jantar            4                34\n",
              "5        25.29     4.71  Masculino  ...  jantar            4                39\n",
              "6         8.77     2.00  Masculino  ...  jantar            2                41\n",
              "\n",
              "[7 rows x 8 columns]"
            ]
          },
          "metadata": {
            "tags": []
          },
          "execution_count": 24
        }
      ]
    },
    {
      "cell_type": "code",
      "metadata": {
        "id": "dmhsdGFJQjDf",
        "outputId": "5a950813-b22f-4158-f2a2-b41368945c48",
        "colab": {
          "base_uri": "https://localhost:8080/",
          "height": 328
        }
      },
      "source": [
        "#mostrar as nove ultimas linhas\n",
        "tips_data.tail(9)"
      ],
      "execution_count": null,
      "outputs": [
        {
          "output_type": "execute_result",
          "data": {
            "text/html": [
              "<div>\n",
              "<style scoped>\n",
              "    .dataframe tbody tr th:only-of-type {\n",
              "        vertical-align: middle;\n",
              "    }\n",
              "\n",
              "    .dataframe tbody tr th {\n",
              "        vertical-align: top;\n",
              "    }\n",
              "\n",
              "    .dataframe thead th {\n",
              "        text-align: right;\n",
              "    }\n",
              "</style>\n",
              "<table border=\"1\" class=\"dataframe\">\n",
              "  <thead>\n",
              "    <tr style=\"text-align: right;\">\n",
              "      <th></th>\n",
              "      <th>total_conta</th>\n",
              "      <th>gorjeta</th>\n",
              "      <th>genero</th>\n",
              "      <th>fumante</th>\n",
              "      <th>dia</th>\n",
              "      <th>horario</th>\n",
              "      <th>pessoas_mesa</th>\n",
              "      <th>tempo_permanencia</th>\n",
              "    </tr>\n",
              "  </thead>\n",
              "  <tbody>\n",
              "    <tr>\n",
              "      <th>235</th>\n",
              "      <td>10.07</td>\n",
              "      <td>1.25</td>\n",
              "      <td>Masculino</td>\n",
              "      <td>nao</td>\n",
              "      <td>sab</td>\n",
              "      <td>jantar</td>\n",
              "      <td>2</td>\n",
              "      <td>30</td>\n",
              "    </tr>\n",
              "    <tr>\n",
              "      <th>236</th>\n",
              "      <td>12.60</td>\n",
              "      <td>1.00</td>\n",
              "      <td>Masculino</td>\n",
              "      <td>sim</td>\n",
              "      <td>sab</td>\n",
              "      <td>jantar</td>\n",
              "      <td>2</td>\n",
              "      <td>50</td>\n",
              "    </tr>\n",
              "    <tr>\n",
              "      <th>237</th>\n",
              "      <td>32.83</td>\n",
              "      <td>1.17</td>\n",
              "      <td>Masculino</td>\n",
              "      <td>sim</td>\n",
              "      <td>sab</td>\n",
              "      <td>jantar</td>\n",
              "      <td>2</td>\n",
              "      <td>38</td>\n",
              "    </tr>\n",
              "    <tr>\n",
              "      <th>238</th>\n",
              "      <td>35.83</td>\n",
              "      <td>4.67</td>\n",
              "      <td>Feminino</td>\n",
              "      <td>nao</td>\n",
              "      <td>sab</td>\n",
              "      <td>jantar</td>\n",
              "      <td>3</td>\n",
              "      <td>42</td>\n",
              "    </tr>\n",
              "    <tr>\n",
              "      <th>239</th>\n",
              "      <td>29.03</td>\n",
              "      <td>5.92</td>\n",
              "      <td>Masculino</td>\n",
              "      <td>nao</td>\n",
              "      <td>sab</td>\n",
              "      <td>jantar</td>\n",
              "      <td>3</td>\n",
              "      <td>40</td>\n",
              "    </tr>\n",
              "    <tr>\n",
              "      <th>240</th>\n",
              "      <td>27.18</td>\n",
              "      <td>2.00</td>\n",
              "      <td>Feminino</td>\n",
              "      <td>sim</td>\n",
              "      <td>sab</td>\n",
              "      <td>jantar</td>\n",
              "      <td>2</td>\n",
              "      <td>35</td>\n",
              "    </tr>\n",
              "    <tr>\n",
              "      <th>241</th>\n",
              "      <td>22.67</td>\n",
              "      <td>2.00</td>\n",
              "      <td>Masculino</td>\n",
              "      <td>sim</td>\n",
              "      <td>sab</td>\n",
              "      <td>jantar</td>\n",
              "      <td>2</td>\n",
              "      <td>30</td>\n",
              "    </tr>\n",
              "    <tr>\n",
              "      <th>242</th>\n",
              "      <td>17.82</td>\n",
              "      <td>1.75</td>\n",
              "      <td>Masculino</td>\n",
              "      <td>nao</td>\n",
              "      <td>sab</td>\n",
              "      <td>jantar</td>\n",
              "      <td>2</td>\n",
              "      <td>38</td>\n",
              "    </tr>\n",
              "    <tr>\n",
              "      <th>243</th>\n",
              "      <td>18.78</td>\n",
              "      <td>3.00</td>\n",
              "      <td>Feminino</td>\n",
              "      <td>nao</td>\n",
              "      <td>qui</td>\n",
              "      <td>jantar</td>\n",
              "      <td>2</td>\n",
              "      <td>40</td>\n",
              "    </tr>\n",
              "  </tbody>\n",
              "</table>\n",
              "</div>"
            ],
            "text/plain": [
              "     total_conta  gorjeta     genero  ... horario pessoas_mesa tempo_permanencia\n",
              "235        10.07     1.25  Masculino  ...  jantar            2                30\n",
              "236        12.60     1.00  Masculino  ...  jantar            2                50\n",
              "237        32.83     1.17  Masculino  ...  jantar            2                38\n",
              "238        35.83     4.67   Feminino  ...  jantar            3                42\n",
              "239        29.03     5.92  Masculino  ...  jantar            3                40\n",
              "240        27.18     2.00   Feminino  ...  jantar            2                35\n",
              "241        22.67     2.00  Masculino  ...  jantar            2                30\n",
              "242        17.82     1.75  Masculino  ...  jantar            2                38\n",
              "243        18.78     3.00   Feminino  ...  jantar            2                40\n",
              "\n",
              "[9 rows x 8 columns]"
            ]
          },
          "metadata": {
            "tags": []
          },
          "execution_count": 25
        }
      ]
    },
    {
      "cell_type": "code",
      "metadata": {
        "id": "OL1036apQwVi",
        "outputId": "6641f540-7417-4b93-bdd4-6d595f055937",
        "colab": {
          "base_uri": "https://localhost:8080/",
          "height": 34
        }
      },
      "source": [
        "#mostrar o numero de colunas e linhas\n",
        "tips_data.shape\n"
      ],
      "execution_count": null,
      "outputs": [
        {
          "output_type": "execute_result",
          "data": {
            "text/plain": [
              "(244, 8)"
            ]
          },
          "metadata": {
            "tags": []
          },
          "execution_count": 31
        }
      ]
    },
    {
      "cell_type": "code",
      "metadata": {
        "id": "f3fVqEWXRXYz",
        "outputId": "dc58a833-8120-46d1-fc99-f3abcfac35ec",
        "colab": {
          "base_uri": "https://localhost:8080/",
          "height": 238
        }
      },
      "source": [
        "#linhas\n",
        "tips_data.shape()"
      ],
      "execution_count": null,
      "outputs": [
        {
          "output_type": "stream",
          "text": [
            "<class 'pandas.core.frame.DataFrame'>\n",
            "RangeIndex: 244 entries, 0 to 243\n",
            "Data columns (total 8 columns):\n",
            "total_conta          244 non-null float64\n",
            "gorjeta              244 non-null float64\n",
            "genero               244 non-null object\n",
            "fumante              244 non-null object\n",
            "dia                  244 non-null object\n",
            "horario              244 non-null object\n",
            "pessoas_mesa         244 non-null int64\n",
            "tempo_permanencia    244 non-null int64\n",
            "dtypes: float64(2), int64(2), object(4)\n",
            "memory usage: 15.3+ KB\n"
          ],
          "name": "stdout"
        }
      ]
    },
    {
      "cell_type": "code",
      "metadata": {
        "id": "gT-hVX7xRp2_",
        "outputId": "c78433f7-2f42-4f34-fe25-86d54e88ab59",
        "colab": {
          "base_uri": "https://localhost:8080/",
          "height": 163
        }
      },
      "source": [
        "# quais colunas têm dados quantitativos\n",
        "tips_data.info[['total_conta','gorjeta','pessoas_mesa','tempo_permanencia']]\n"
      ],
      "execution_count": null,
      "outputs": [
        {
          "output_type": "error",
          "ename": "TypeError",
          "evalue": "ignored",
          "traceback": [
            "\u001b[0;31m---------------------------------------------------------------------------\u001b[0m",
            "\u001b[0;31mTypeError\u001b[0m                                 Traceback (most recent call last)",
            "\u001b[0;32m<ipython-input-33-6981c965ee0e>\u001b[0m in \u001b[0;36m<module>\u001b[0;34m()\u001b[0m\n\u001b[0;32m----> 1\u001b[0;31m \u001b[0mtips_data\u001b[0m\u001b[0;34m.\u001b[0m\u001b[0minfo\u001b[0m\u001b[0;34m[\u001b[0m\u001b[0;34m[\u001b[0m\u001b[0;34m'total_conta'\u001b[0m\u001b[0;34m,\u001b[0m\u001b[0;34m'gorjeta'\u001b[0m\u001b[0;34m,\u001b[0m\u001b[0;34m'pessoas_mesa'\u001b[0m\u001b[0;34m,\u001b[0m\u001b[0;34m'tempo_permanencia'\u001b[0m\u001b[0;34m]\u001b[0m\u001b[0;34m]\u001b[0m\u001b[0;34m\u001b[0m\u001b[0;34m\u001b[0m\u001b[0m\n\u001b[0m",
            "\u001b[0;31mTypeError\u001b[0m: 'method' object is not subscriptable"
          ]
        }
      ]
    },
    {
      "cell_type": "code",
      "metadata": {
        "id": "W2XNEM-fSX7-",
        "outputId": "35b9dc90-cd64-4170-9fa9-5643eb9c2452",
        "colab": {
          "base_uri": "https://localhost:8080/",
          "height": 1000
        }
      },
      "source": [
        "#todos de uma vez\n",
        "tips_data.info"
      ],
      "execution_count": null,
      "outputs": [
        {
          "output_type": "execute_result",
          "data": {
            "text/plain": [
              "<bound method DataFrame.info of      total_conta  gorjeta     genero  ... horario pessoas_mesa tempo_permanencia\n",
              "0          16.99     1.01   Feminino  ...  jantar            2                41\n",
              "1          10.34     1.66  Masculino  ...  jantar            3                40\n",
              "2          21.01     3.50  Masculino  ...  jantar            3                49\n",
              "3          23.68     3.31  Masculino  ...  jantar            2                43\n",
              "4          24.59     3.61   Feminino  ...  jantar            4                34\n",
              "5          25.29     4.71  Masculino  ...  jantar            4                39\n",
              "6           8.77     2.00  Masculino  ...  jantar            2                41\n",
              "7          26.88     3.12  Masculino  ...  jantar            4                31\n",
              "8          15.04     1.96  Masculino  ...  jantar            2                35\n",
              "9          14.78     3.23  Masculino  ...  jantar            2                41\n",
              "10         10.27     1.71  Masculino  ...  jantar            2                40\n",
              "11         35.26     5.00   Feminino  ...  jantar            4                38\n",
              "12         15.42     1.57  Masculino  ...  jantar            2                34\n",
              "13         18.43     3.00  Masculino  ...  jantar            4                36\n",
              "14         14.83     3.02   Feminino  ...  jantar            2                42\n",
              "15         21.58     3.92  Masculino  ...  jantar            2                39\n",
              "16         10.33     1.67   Feminino  ...  jantar            3                35\n",
              "17         16.29     3.71  Masculino  ...  jantar            3                40\n",
              "18         16.97     3.50   Feminino  ...  jantar            3                48\n",
              "19         20.65     3.35  Masculino  ...  jantar            3                40\n",
              "20         17.92     4.08  Masculino  ...  jantar            2                43\n",
              "21         20.29     2.75   Feminino  ...  jantar            2                44\n",
              "22         15.77     2.23   Feminino  ...  jantar            2                50\n",
              "23         39.42     7.58  Masculino  ...  jantar            4                42\n",
              "24         19.82     3.18  Masculino  ...  jantar            2                46\n",
              "25         17.81     2.34  Masculino  ...  jantar            4                37\n",
              "26         13.37     2.00  Masculino  ...  jantar            2                46\n",
              "27         12.69     2.00  Masculino  ...  jantar            2                41\n",
              "28         21.70     4.30  Masculino  ...  jantar            2                35\n",
              "29         19.65     3.00   Feminino  ...  jantar            2                37\n",
              "..           ...      ...        ...  ...     ...          ...               ...\n",
              "214        28.17     6.50   Feminino  ...  jantar            3                38\n",
              "215        12.90     1.10   Feminino  ...  jantar            2                38\n",
              "216        28.15     3.00  Masculino  ...  jantar            5                49\n",
              "217        11.59     1.50  Masculino  ...  jantar            2                42\n",
              "218         7.74     1.44  Masculino  ...  jantar            2                39\n",
              "219        30.14     3.09   Feminino  ...  jantar            4                41\n",
              "220        12.16     2.20  Masculino  ...  almoco            2                49\n",
              "221        13.42     3.48   Feminino  ...  almoco            2                41\n",
              "222         8.58     1.92  Masculino  ...  almoco            1                36\n",
              "223        15.98     3.00   Feminino  ...  almoco            3                40\n",
              "224        13.42     1.58  Masculino  ...  almoco            2                45\n",
              "225        16.27     2.50   Feminino  ...  almoco            2                50\n",
              "226        10.09     2.00   Feminino  ...  almoco            2                51\n",
              "227        20.45     3.00  Masculino  ...  jantar            4                38\n",
              "228        13.28     2.72  Masculino  ...  jantar            2                37\n",
              "229        22.12     2.88   Feminino  ...  jantar            2                42\n",
              "230        24.01     2.00  Masculino  ...  jantar            4                45\n",
              "231        15.69     3.00  Masculino  ...  jantar            3                39\n",
              "232        11.61     3.39  Masculino  ...  jantar            2                42\n",
              "233        10.77     1.47  Masculino  ...  jantar            2                35\n",
              "234        15.53     3.00  Masculino  ...  jantar            2                52\n",
              "235        10.07     1.25  Masculino  ...  jantar            2                30\n",
              "236        12.60     1.00  Masculino  ...  jantar            2                50\n",
              "237        32.83     1.17  Masculino  ...  jantar            2                38\n",
              "238        35.83     4.67   Feminino  ...  jantar            3                42\n",
              "239        29.03     5.92  Masculino  ...  jantar            3                40\n",
              "240        27.18     2.00   Feminino  ...  jantar            2                35\n",
              "241        22.67     2.00  Masculino  ...  jantar            2                30\n",
              "242        17.82     1.75  Masculino  ...  jantar            2                38\n",
              "243        18.78     3.00   Feminino  ...  jantar            2                40\n",
              "\n",
              "[244 rows x 8 columns]>"
            ]
          },
          "metadata": {
            "tags": []
          },
          "execution_count": 34
        }
      ]
    },
    {
      "cell_type": "code",
      "metadata": {
        "id": "zuzvA6gDTGRP",
        "outputId": "8cd03cf0-77f4-4afa-eb1f-c578874d2765",
        "colab": {
          "base_uri": "https://localhost:8080/",
          "height": 1000
        }
      },
      "source": [
        "#listar a coluna genero\n",
        "tips_data['genero']"
      ],
      "execution_count": null,
      "outputs": [
        {
          "output_type": "execute_result",
          "data": {
            "text/plain": [
              "0       Feminino\n",
              "1      Masculino\n",
              "2      Masculino\n",
              "3      Masculino\n",
              "4       Feminino\n",
              "5      Masculino\n",
              "6      Masculino\n",
              "7      Masculino\n",
              "8      Masculino\n",
              "9      Masculino\n",
              "10     Masculino\n",
              "11      Feminino\n",
              "12     Masculino\n",
              "13     Masculino\n",
              "14      Feminino\n",
              "15     Masculino\n",
              "16      Feminino\n",
              "17     Masculino\n",
              "18      Feminino\n",
              "19     Masculino\n",
              "20     Masculino\n",
              "21      Feminino\n",
              "22      Feminino\n",
              "23     Masculino\n",
              "24     Masculino\n",
              "25     Masculino\n",
              "26     Masculino\n",
              "27     Masculino\n",
              "28     Masculino\n",
              "29      Feminino\n",
              "         ...    \n",
              "214     Feminino\n",
              "215     Feminino\n",
              "216    Masculino\n",
              "217    Masculino\n",
              "218    Masculino\n",
              "219     Feminino\n",
              "220    Masculino\n",
              "221     Feminino\n",
              "222    Masculino\n",
              "223     Feminino\n",
              "224    Masculino\n",
              "225     Feminino\n",
              "226     Feminino\n",
              "227    Masculino\n",
              "228    Masculino\n",
              "229     Feminino\n",
              "230    Masculino\n",
              "231    Masculino\n",
              "232    Masculino\n",
              "233    Masculino\n",
              "234    Masculino\n",
              "235    Masculino\n",
              "236    Masculino\n",
              "237    Masculino\n",
              "238     Feminino\n",
              "239    Masculino\n",
              "240     Feminino\n",
              "241    Masculino\n",
              "242    Masculino\n",
              "243     Feminino\n",
              "Name: genero, Length: 244, dtype: object"
            ]
          },
          "metadata": {
            "tags": []
          },
          "execution_count": 35
        }
      ]
    },
    {
      "cell_type": "code",
      "metadata": {
        "id": "OhEHHtPITRFn",
        "outputId": "3a530336-786a-41f7-f1a9-85248222839e",
        "colab": {
          "base_uri": "https://localhost:8080/",
          "height": 1000
        }
      },
      "source": [
        "#selecionando coluna gorjeta\n",
        "tips_data['gorjeta']"
      ],
      "execution_count": null,
      "outputs": [
        {
          "output_type": "execute_result",
          "data": {
            "text/plain": [
              "0      1.01\n",
              "1      1.66\n",
              "2      3.50\n",
              "3      3.31\n",
              "4      3.61\n",
              "5      4.71\n",
              "6      2.00\n",
              "7      3.12\n",
              "8      1.96\n",
              "9      3.23\n",
              "10     1.71\n",
              "11     5.00\n",
              "12     1.57\n",
              "13     3.00\n",
              "14     3.02\n",
              "15     3.92\n",
              "16     1.67\n",
              "17     3.71\n",
              "18     3.50\n",
              "19     3.35\n",
              "20     4.08\n",
              "21     2.75\n",
              "22     2.23\n",
              "23     7.58\n",
              "24     3.18\n",
              "25     2.34\n",
              "26     2.00\n",
              "27     2.00\n",
              "28     4.30\n",
              "29     3.00\n",
              "       ... \n",
              "214    6.50\n",
              "215    1.10\n",
              "216    3.00\n",
              "217    1.50\n",
              "218    1.44\n",
              "219    3.09\n",
              "220    2.20\n",
              "221    3.48\n",
              "222    1.92\n",
              "223    3.00\n",
              "224    1.58\n",
              "225    2.50\n",
              "226    2.00\n",
              "227    3.00\n",
              "228    2.72\n",
              "229    2.88\n",
              "230    2.00\n",
              "231    3.00\n",
              "232    3.39\n",
              "233    1.47\n",
              "234    3.00\n",
              "235    1.25\n",
              "236    1.00\n",
              "237    1.17\n",
              "238    4.67\n",
              "239    5.92\n",
              "240    2.00\n",
              "241    2.00\n",
              "242    1.75\n",
              "243    3.00\n",
              "Name: gorjeta, Length: 244, dtype: float64"
            ]
          },
          "metadata": {
            "tags": []
          },
          "execution_count": 36
        }
      ]
    },
    {
      "cell_type": "code",
      "metadata": {
        "id": "d8kzT3oBTbBB",
        "outputId": "e817dc73-5597-48b8-8487-476e4f32c157",
        "colab": {
          "base_uri": "https://localhost:8080/",
          "height": 1000
        }
      },
      "source": [
        "#listando as duas colunas genero e gorjeta\n",
        "tips_data[['genero','gorjeta']]"
      ],
      "execution_count": null,
      "outputs": [
        {
          "output_type": "execute_result",
          "data": {
            "text/html": [
              "<div>\n",
              "<style scoped>\n",
              "    .dataframe tbody tr th:only-of-type {\n",
              "        vertical-align: middle;\n",
              "    }\n",
              "\n",
              "    .dataframe tbody tr th {\n",
              "        vertical-align: top;\n",
              "    }\n",
              "\n",
              "    .dataframe thead th {\n",
              "        text-align: right;\n",
              "    }\n",
              "</style>\n",
              "<table border=\"1\" class=\"dataframe\">\n",
              "  <thead>\n",
              "    <tr style=\"text-align: right;\">\n",
              "      <th></th>\n",
              "      <th>genero</th>\n",
              "      <th>gorjeta</th>\n",
              "    </tr>\n",
              "  </thead>\n",
              "  <tbody>\n",
              "    <tr>\n",
              "      <th>0</th>\n",
              "      <td>Feminino</td>\n",
              "      <td>1.01</td>\n",
              "    </tr>\n",
              "    <tr>\n",
              "      <th>1</th>\n",
              "      <td>Masculino</td>\n",
              "      <td>1.66</td>\n",
              "    </tr>\n",
              "    <tr>\n",
              "      <th>2</th>\n",
              "      <td>Masculino</td>\n",
              "      <td>3.50</td>\n",
              "    </tr>\n",
              "    <tr>\n",
              "      <th>3</th>\n",
              "      <td>Masculino</td>\n",
              "      <td>3.31</td>\n",
              "    </tr>\n",
              "    <tr>\n",
              "      <th>4</th>\n",
              "      <td>Feminino</td>\n",
              "      <td>3.61</td>\n",
              "    </tr>\n",
              "    <tr>\n",
              "      <th>5</th>\n",
              "      <td>Masculino</td>\n",
              "      <td>4.71</td>\n",
              "    </tr>\n",
              "    <tr>\n",
              "      <th>6</th>\n",
              "      <td>Masculino</td>\n",
              "      <td>2.00</td>\n",
              "    </tr>\n",
              "    <tr>\n",
              "      <th>7</th>\n",
              "      <td>Masculino</td>\n",
              "      <td>3.12</td>\n",
              "    </tr>\n",
              "    <tr>\n",
              "      <th>8</th>\n",
              "      <td>Masculino</td>\n",
              "      <td>1.96</td>\n",
              "    </tr>\n",
              "    <tr>\n",
              "      <th>9</th>\n",
              "      <td>Masculino</td>\n",
              "      <td>3.23</td>\n",
              "    </tr>\n",
              "    <tr>\n",
              "      <th>10</th>\n",
              "      <td>Masculino</td>\n",
              "      <td>1.71</td>\n",
              "    </tr>\n",
              "    <tr>\n",
              "      <th>11</th>\n",
              "      <td>Feminino</td>\n",
              "      <td>5.00</td>\n",
              "    </tr>\n",
              "    <tr>\n",
              "      <th>12</th>\n",
              "      <td>Masculino</td>\n",
              "      <td>1.57</td>\n",
              "    </tr>\n",
              "    <tr>\n",
              "      <th>13</th>\n",
              "      <td>Masculino</td>\n",
              "      <td>3.00</td>\n",
              "    </tr>\n",
              "    <tr>\n",
              "      <th>14</th>\n",
              "      <td>Feminino</td>\n",
              "      <td>3.02</td>\n",
              "    </tr>\n",
              "    <tr>\n",
              "      <th>15</th>\n",
              "      <td>Masculino</td>\n",
              "      <td>3.92</td>\n",
              "    </tr>\n",
              "    <tr>\n",
              "      <th>16</th>\n",
              "      <td>Feminino</td>\n",
              "      <td>1.67</td>\n",
              "    </tr>\n",
              "    <tr>\n",
              "      <th>17</th>\n",
              "      <td>Masculino</td>\n",
              "      <td>3.71</td>\n",
              "    </tr>\n",
              "    <tr>\n",
              "      <th>18</th>\n",
              "      <td>Feminino</td>\n",
              "      <td>3.50</td>\n",
              "    </tr>\n",
              "    <tr>\n",
              "      <th>19</th>\n",
              "      <td>Masculino</td>\n",
              "      <td>3.35</td>\n",
              "    </tr>\n",
              "    <tr>\n",
              "      <th>20</th>\n",
              "      <td>Masculino</td>\n",
              "      <td>4.08</td>\n",
              "    </tr>\n",
              "    <tr>\n",
              "      <th>21</th>\n",
              "      <td>Feminino</td>\n",
              "      <td>2.75</td>\n",
              "    </tr>\n",
              "    <tr>\n",
              "      <th>22</th>\n",
              "      <td>Feminino</td>\n",
              "      <td>2.23</td>\n",
              "    </tr>\n",
              "    <tr>\n",
              "      <th>23</th>\n",
              "      <td>Masculino</td>\n",
              "      <td>7.58</td>\n",
              "    </tr>\n",
              "    <tr>\n",
              "      <th>24</th>\n",
              "      <td>Masculino</td>\n",
              "      <td>3.18</td>\n",
              "    </tr>\n",
              "    <tr>\n",
              "      <th>25</th>\n",
              "      <td>Masculino</td>\n",
              "      <td>2.34</td>\n",
              "    </tr>\n",
              "    <tr>\n",
              "      <th>26</th>\n",
              "      <td>Masculino</td>\n",
              "      <td>2.00</td>\n",
              "    </tr>\n",
              "    <tr>\n",
              "      <th>27</th>\n",
              "      <td>Masculino</td>\n",
              "      <td>2.00</td>\n",
              "    </tr>\n",
              "    <tr>\n",
              "      <th>28</th>\n",
              "      <td>Masculino</td>\n",
              "      <td>4.30</td>\n",
              "    </tr>\n",
              "    <tr>\n",
              "      <th>29</th>\n",
              "      <td>Feminino</td>\n",
              "      <td>3.00</td>\n",
              "    </tr>\n",
              "    <tr>\n",
              "      <th>...</th>\n",
              "      <td>...</td>\n",
              "      <td>...</td>\n",
              "    </tr>\n",
              "    <tr>\n",
              "      <th>214</th>\n",
              "      <td>Feminino</td>\n",
              "      <td>6.50</td>\n",
              "    </tr>\n",
              "    <tr>\n",
              "      <th>215</th>\n",
              "      <td>Feminino</td>\n",
              "      <td>1.10</td>\n",
              "    </tr>\n",
              "    <tr>\n",
              "      <th>216</th>\n",
              "      <td>Masculino</td>\n",
              "      <td>3.00</td>\n",
              "    </tr>\n",
              "    <tr>\n",
              "      <th>217</th>\n",
              "      <td>Masculino</td>\n",
              "      <td>1.50</td>\n",
              "    </tr>\n",
              "    <tr>\n",
              "      <th>218</th>\n",
              "      <td>Masculino</td>\n",
              "      <td>1.44</td>\n",
              "    </tr>\n",
              "    <tr>\n",
              "      <th>219</th>\n",
              "      <td>Feminino</td>\n",
              "      <td>3.09</td>\n",
              "    </tr>\n",
              "    <tr>\n",
              "      <th>220</th>\n",
              "      <td>Masculino</td>\n",
              "      <td>2.20</td>\n",
              "    </tr>\n",
              "    <tr>\n",
              "      <th>221</th>\n",
              "      <td>Feminino</td>\n",
              "      <td>3.48</td>\n",
              "    </tr>\n",
              "    <tr>\n",
              "      <th>222</th>\n",
              "      <td>Masculino</td>\n",
              "      <td>1.92</td>\n",
              "    </tr>\n",
              "    <tr>\n",
              "      <th>223</th>\n",
              "      <td>Feminino</td>\n",
              "      <td>3.00</td>\n",
              "    </tr>\n",
              "    <tr>\n",
              "      <th>224</th>\n",
              "      <td>Masculino</td>\n",
              "      <td>1.58</td>\n",
              "    </tr>\n",
              "    <tr>\n",
              "      <th>225</th>\n",
              "      <td>Feminino</td>\n",
              "      <td>2.50</td>\n",
              "    </tr>\n",
              "    <tr>\n",
              "      <th>226</th>\n",
              "      <td>Feminino</td>\n",
              "      <td>2.00</td>\n",
              "    </tr>\n",
              "    <tr>\n",
              "      <th>227</th>\n",
              "      <td>Masculino</td>\n",
              "      <td>3.00</td>\n",
              "    </tr>\n",
              "    <tr>\n",
              "      <th>228</th>\n",
              "      <td>Masculino</td>\n",
              "      <td>2.72</td>\n",
              "    </tr>\n",
              "    <tr>\n",
              "      <th>229</th>\n",
              "      <td>Feminino</td>\n",
              "      <td>2.88</td>\n",
              "    </tr>\n",
              "    <tr>\n",
              "      <th>230</th>\n",
              "      <td>Masculino</td>\n",
              "      <td>2.00</td>\n",
              "    </tr>\n",
              "    <tr>\n",
              "      <th>231</th>\n",
              "      <td>Masculino</td>\n",
              "      <td>3.00</td>\n",
              "    </tr>\n",
              "    <tr>\n",
              "      <th>232</th>\n",
              "      <td>Masculino</td>\n",
              "      <td>3.39</td>\n",
              "    </tr>\n",
              "    <tr>\n",
              "      <th>233</th>\n",
              "      <td>Masculino</td>\n",
              "      <td>1.47</td>\n",
              "    </tr>\n",
              "    <tr>\n",
              "      <th>234</th>\n",
              "      <td>Masculino</td>\n",
              "      <td>3.00</td>\n",
              "    </tr>\n",
              "    <tr>\n",
              "      <th>235</th>\n",
              "      <td>Masculino</td>\n",
              "      <td>1.25</td>\n",
              "    </tr>\n",
              "    <tr>\n",
              "      <th>236</th>\n",
              "      <td>Masculino</td>\n",
              "      <td>1.00</td>\n",
              "    </tr>\n",
              "    <tr>\n",
              "      <th>237</th>\n",
              "      <td>Masculino</td>\n",
              "      <td>1.17</td>\n",
              "    </tr>\n",
              "    <tr>\n",
              "      <th>238</th>\n",
              "      <td>Feminino</td>\n",
              "      <td>4.67</td>\n",
              "    </tr>\n",
              "    <tr>\n",
              "      <th>239</th>\n",
              "      <td>Masculino</td>\n",
              "      <td>5.92</td>\n",
              "    </tr>\n",
              "    <tr>\n",
              "      <th>240</th>\n",
              "      <td>Feminino</td>\n",
              "      <td>2.00</td>\n",
              "    </tr>\n",
              "    <tr>\n",
              "      <th>241</th>\n",
              "      <td>Masculino</td>\n",
              "      <td>2.00</td>\n",
              "    </tr>\n",
              "    <tr>\n",
              "      <th>242</th>\n",
              "      <td>Masculino</td>\n",
              "      <td>1.75</td>\n",
              "    </tr>\n",
              "    <tr>\n",
              "      <th>243</th>\n",
              "      <td>Feminino</td>\n",
              "      <td>3.00</td>\n",
              "    </tr>\n",
              "  </tbody>\n",
              "</table>\n",
              "<p>244 rows × 2 columns</p>\n",
              "</div>"
            ],
            "text/plain": [
              "        genero  gorjeta\n",
              "0     Feminino     1.01\n",
              "1    Masculino     1.66\n",
              "2    Masculino     3.50\n",
              "3    Masculino     3.31\n",
              "4     Feminino     3.61\n",
              "5    Masculino     4.71\n",
              "6    Masculino     2.00\n",
              "7    Masculino     3.12\n",
              "8    Masculino     1.96\n",
              "9    Masculino     3.23\n",
              "10   Masculino     1.71\n",
              "11    Feminino     5.00\n",
              "12   Masculino     1.57\n",
              "13   Masculino     3.00\n",
              "14    Feminino     3.02\n",
              "15   Masculino     3.92\n",
              "16    Feminino     1.67\n",
              "17   Masculino     3.71\n",
              "18    Feminino     3.50\n",
              "19   Masculino     3.35\n",
              "20   Masculino     4.08\n",
              "21    Feminino     2.75\n",
              "22    Feminino     2.23\n",
              "23   Masculino     7.58\n",
              "24   Masculino     3.18\n",
              "25   Masculino     2.34\n",
              "26   Masculino     2.00\n",
              "27   Masculino     2.00\n",
              "28   Masculino     4.30\n",
              "29    Feminino     3.00\n",
              "..         ...      ...\n",
              "214   Feminino     6.50\n",
              "215   Feminino     1.10\n",
              "216  Masculino     3.00\n",
              "217  Masculino     1.50\n",
              "218  Masculino     1.44\n",
              "219   Feminino     3.09\n",
              "220  Masculino     2.20\n",
              "221   Feminino     3.48\n",
              "222  Masculino     1.92\n",
              "223   Feminino     3.00\n",
              "224  Masculino     1.58\n",
              "225   Feminino     2.50\n",
              "226   Feminino     2.00\n",
              "227  Masculino     3.00\n",
              "228  Masculino     2.72\n",
              "229   Feminino     2.88\n",
              "230  Masculino     2.00\n",
              "231  Masculino     3.00\n",
              "232  Masculino     3.39\n",
              "233  Masculino     1.47\n",
              "234  Masculino     3.00\n",
              "235  Masculino     1.25\n",
              "236  Masculino     1.00\n",
              "237  Masculino     1.17\n",
              "238   Feminino     4.67\n",
              "239  Masculino     5.92\n",
              "240   Feminino     2.00\n",
              "241  Masculino     2.00\n",
              "242  Masculino     1.75\n",
              "243   Feminino     3.00\n",
              "\n",
              "[244 rows x 2 columns]"
            ]
          },
          "metadata": {
            "tags": []
          },
          "execution_count": 37
        }
      ]
    },
    {
      "cell_type": "code",
      "metadata": {
        "id": "UrPyfgrITrYY",
        "outputId": "f1b71788-44a0-4e9e-d5f4-68ca3112cd5f",
        "colab": {
          "base_uri": "https://localhost:8080/",
          "height": 34
        }
      },
      "source": [
        "#media de gorjetas\n",
        "tips_data['gorjeta'].mean()"
      ],
      "execution_count": null,
      "outputs": [
        {
          "output_type": "execute_result",
          "data": {
            "text/plain": [
              "2.9982786885245902"
            ]
          },
          "metadata": {
            "tags": []
          },
          "execution_count": 41
        }
      ]
    },
    {
      "cell_type": "code",
      "metadata": {
        "id": "sjBsWCDOZpvW",
        "outputId": "9a4c328b-a6f5-4ec1-c966-24578d08efe3",
        "colab": {
          "base_uri": "https://localhost:8080/",
          "height": 34
        }
      },
      "source": [
        "#media de total_conta\n",
        "tips_data['total_conta'].mean()"
      ],
      "execution_count": null,
      "outputs": [
        {
          "output_type": "execute_result",
          "data": {
            "text/plain": [
              "19.785942622950824"
            ]
          },
          "metadata": {
            "tags": []
          },
          "execution_count": 42
        }
      ]
    },
    {
      "cell_type": "code",
      "metadata": {
        "id": "JPZLticLaBA2",
        "outputId": "7550458b-a825-43a2-8327-e1df9f02e011",
        "colab": {
          "base_uri": "https://localhost:8080/",
          "height": 102
        }
      },
      "source": [
        "#media de todas as colunas quantitativas\n",
        "tips_data[['total_conta','gorjeta','pessoas_mesa','tempo_permanencia']].mean()"
      ],
      "execution_count": null,
      "outputs": [
        {
          "output_type": "execute_result",
          "data": {
            "text/plain": [
              "total_conta          19.785943\n",
              "gorjeta               2.998279\n",
              "pessoas_mesa          2.569672\n",
              "tempo_permanencia    40.262295\n",
              "dtype: float64"
            ]
          },
          "metadata": {
            "tags": []
          },
          "execution_count": 44
        }
      ]
    },
    {
      "cell_type": "code",
      "metadata": {
        "id": "ODXYuOxmxFgx",
        "outputId": "1435bfa7-0f76-4b89-814d-e2fcdd10e0f5",
        "colab": {
          "base_uri": "https://localhost:8080/",
          "height": 51
        }
      },
      "source": [
        "# quem mais frequenta o restaurante por genero\n",
        "tips_data['genero'].mode()"
      ],
      "execution_count": null,
      "outputs": [
        {
          "output_type": "execute_result",
          "data": {
            "text/plain": [
              "0    Masculino\n",
              "dtype: object"
            ]
          },
          "metadata": {
            "tags": []
          },
          "execution_count": 47
        }
      ]
    },
    {
      "cell_type": "code",
      "metadata": {
        "id": "z0jH4dH_x2j7",
        "outputId": "30217e97-69f0-4f8c-9d10-26999932fcfe",
        "colab": {
          "base_uri": "https://localhost:8080/",
          "height": 51
        }
      },
      "source": [
        "#dia preferido de irem ao restaurante\n",
        "tips_data['dia'].mode()"
      ],
      "execution_count": null,
      "outputs": [
        {
          "output_type": "execute_result",
          "data": {
            "text/plain": [
              "0    sab\n",
              "dtype: object"
            ]
          },
          "metadata": {
            "tags": []
          },
          "execution_count": 48
        }
      ]
    },
    {
      "cell_type": "code",
      "metadata": {
        "id": "CzAZ-p2dyBlp",
        "outputId": "cc108fa1-c4a3-4bff-ddfb-e72eee4850f0",
        "colab": {
          "base_uri": "https://localhost:8080/",
          "height": 51
        }
      },
      "source": [
        "#almoço ou janta\n",
        "tips_data['horario'].mode()"
      ],
      "execution_count": null,
      "outputs": [
        {
          "output_type": "execute_result",
          "data": {
            "text/plain": [
              "0    jantar\n",
              "dtype: object"
            ]
          },
          "metadata": {
            "tags": []
          },
          "execution_count": 49
        }
      ]
    },
    {
      "cell_type": "code",
      "metadata": {
        "id": "FLw8Jkr3yP1V",
        "outputId": "031848a7-281b-440b-ea26-569f6bb6d1a6",
        "colab": {
          "base_uri": "https://localhost:8080/",
          "height": 51
        }
      },
      "source": [
        "#a maioria dos clientes são fumantes?\n",
        "tips_data['fumante'].mode()"
      ],
      "execution_count": null,
      "outputs": [
        {
          "output_type": "execute_result",
          "data": {
            "text/plain": [
              "0    nao\n",
              "dtype: object"
            ]
          },
          "metadata": {
            "tags": []
          },
          "execution_count": 50
        }
      ]
    },
    {
      "cell_type": "code",
      "metadata": {
        "id": "bCHaewgz0AaY",
        "outputId": "dcee83cd-f9e8-4fb0-ca84-4bbbb98a2fce",
        "colab": {
          "base_uri": "https://localhost:8080/",
          "height": 68
        }
      },
      "source": [
        "#qual o tempo de permanencia dos clientes no restaurante?\n",
        "tips_data['tempo_permanencia'].mode()"
      ],
      "execution_count": null,
      "outputs": [
        {
          "output_type": "execute_result",
          "data": {
            "text/plain": [
              "0    37\n",
              "1    38\n",
              "dtype: int64"
            ]
          },
          "metadata": {
            "tags": []
          },
          "execution_count": 53
        }
      ]
    },
    {
      "cell_type": "code",
      "metadata": {
        "id": "78xRX1vA0wC7",
        "outputId": "07fa737d-64e8-4d7d-d2a4-d705b3a966c4",
        "colab": {
          "base_uri": "https://localhost:8080/",
          "height": 34
        }
      },
      "source": [
        "#mediana das contas que os clientes pagam no restaurante\n",
        "tips_data['total_conta'].median()"
      ],
      "execution_count": null,
      "outputs": [
        {
          "output_type": "execute_result",
          "data": {
            "text/plain": [
              "17.795"
            ]
          },
          "metadata": {
            "tags": []
          },
          "execution_count": 54
        }
      ]
    },
    {
      "cell_type": "code",
      "metadata": {
        "id": "UrmR-xGq39Ps",
        "outputId": "af6ee07b-ce97-48f7-9954-94817dc6f41c",
        "colab": {
          "base_uri": "https://localhost:8080/",
          "height": 34
        }
      },
      "source": [
        "#mediana das gorjetas que os clientes pagam no rest\n",
        "tips_data['gorjeta'].median()"
      ],
      "execution_count": null,
      "outputs": [
        {
          "output_type": "execute_result",
          "data": {
            "text/plain": [
              "2.9"
            ]
          },
          "metadata": {
            "tags": []
          },
          "execution_count": 55
        }
      ]
    },
    {
      "cell_type": "code",
      "metadata": {
        "id": "Xu4XvLdA4Fkf",
        "outputId": "fe894d4f-0416-4886-8a27-bcda7c4672cb",
        "colab": {
          "base_uri": "https://localhost:8080/",
          "height": 34
        }
      },
      "source": [
        "#mediana das contas é igual, maior ou menor do que a média das contas\n",
        "tips_data['total_conta'].mean()"
      ],
      "execution_count": null,
      "outputs": [
        {
          "output_type": "execute_result",
          "data": {
            "text/plain": [
              "19.785942622950824"
            ]
          },
          "metadata": {
            "tags": []
          },
          "execution_count": 56
        }
      ]
    },
    {
      "cell_type": "code",
      "metadata": {
        "id": "LwqkQ4EU0KR7"
      },
      "source": [
        "#mediana é menor que a média das contas, isso indica que a há valores no total de contas discrepantes interferindo na média, provavelmente aumentando-a"
      ],
      "execution_count": null,
      "outputs": []
    },
    {
      "cell_type": "code",
      "metadata": {
        "id": "cjZSh6574eTi",
        "outputId": "533e849d-127e-4add-91d2-577a5a2e9111",
        "colab": {
          "base_uri": "https://localhost:8080/",
          "height": 34
        }
      },
      "source": [
        "#mediana e média das gorjetas\n",
        "tips_data['gorjeta'].mean()\n",
        "#media e mediana com valores iguais, então em média pagam 3,00 de gorjeta"
      ],
      "execution_count": null,
      "outputs": [
        {
          "output_type": "execute_result",
          "data": {
            "text/plain": [
              "2.9982786885245902"
            ]
          },
          "metadata": {
            "tags": []
          },
          "execution_count": 59
        }
      ]
    },
    {
      "cell_type": "code",
      "metadata": {
        "id": "HVldYbS08sY7",
        "outputId": "a21b54f8-713b-47d1-8df3-968ce8b9971c",
        "colab": {
          "base_uri": "https://localhost:8080/",
          "height": 34
        }
      },
      "source": [
        "#media do tempo que os clientes passam no restaurante\n",
        "tips_data['tempo_permanencia'].mean()"
      ],
      "execution_count": null,
      "outputs": [
        {
          "output_type": "execute_result",
          "data": {
            "text/plain": [
              "40.26229508196721"
            ]
          },
          "metadata": {
            "tags": []
          },
          "execution_count": 61
        }
      ]
    },
    {
      "cell_type": "code",
      "metadata": {
        "id": "x7zp0Dkd9HSe",
        "outputId": "a402d9b6-eb6e-4c92-a2b0-29e5bf2927ac",
        "colab": {
          "base_uri": "https://localhost:8080/",
          "height": 34
        }
      },
      "source": [
        "#mediana do tempo que os clientes ficam no restaurante\n",
        "tips_data['tempo_permanencia'].median()"
      ],
      "execution_count": null,
      "outputs": [
        {
          "output_type": "execute_result",
          "data": {
            "text/plain": [
              "40.0"
            ]
          },
          "metadata": {
            "tags": []
          },
          "execution_count": 62
        }
      ]
    },
    {
      "cell_type": "code",
      "metadata": {
        "id": "hBH3DZfk9ZOX",
        "outputId": "d19170e2-91e6-47db-f2c7-1a74bc63863c",
        "colab": {
          "base_uri": "https://localhost:8080/",
          "height": 68
        }
      },
      "source": [
        "#moda do tempo que os clientes ficam no restaurante\n",
        "tips_data['tempo_permanencia'].mode()"
      ],
      "execution_count": null,
      "outputs": [
        {
          "output_type": "execute_result",
          "data": {
            "text/plain": [
              "0    37\n",
              "1    38\n",
              "dtype: int64"
            ]
          },
          "metadata": {
            "tags": []
          },
          "execution_count": 63
        }
      ]
    },
    {
      "cell_type": "code",
      "metadata": {
        "id": "qvM8yKMS-2H7"
      },
      "source": [
        "#dados estão coerentes, com pequenas diferentes mas também de uma pequena distribuição. Media e mediana proximas apontam para uma possível distribuição normal."
      ],
      "execution_count": null,
      "outputs": []
    },
    {
      "cell_type": "code",
      "metadata": {
        "id": "Dm-w8sJT_FD5",
        "outputId": "c8d246c5-6df3-4abd-bbfd-845d314cafd3",
        "colab": {
          "base_uri": "https://localhost:8080/",
          "height": 34
        }
      },
      "source": [
        "#quartis das contas\n",
        "tips_data['total_conta'].quantile(.25)\n"
      ],
      "execution_count": null,
      "outputs": [
        {
          "output_type": "execute_result",
          "data": {
            "text/plain": [
              "13.3475"
            ]
          },
          "metadata": {
            "tags": []
          },
          "execution_count": 75
        }
      ]
    },
    {
      "cell_type": "code",
      "metadata": {
        "id": "Qs4VSDCJBdqw",
        "outputId": "b5c5845f-529e-4dab-cd0f-cfa0a82f30d4",
        "colab": {
          "base_uri": "https://localhost:8080/",
          "height": 34
        }
      },
      "source": [
        "#existe algum quantil igual a mediana no valor da conta?\n",
        "tips_data['total_conta'].median()\n",
        "#mediana tem o mesmo valor que o quartil do valor das contas, isso permite dizer que"
      ],
      "execution_count": null,
      "outputs": [
        {
          "output_type": "execute_result",
          "data": {
            "text/plain": [
              "17.795"
            ]
          },
          "metadata": {
            "tags": []
          },
          "execution_count": 66
        }
      ]
    },
    {
      "cell_type": "code",
      "metadata": {
        "id": "si5APmtUBrTH",
        "outputId": "81cdec52-3074-4ea0-b920-0c4aed939732",
        "colab": {
          "base_uri": "https://localhost:8080/",
          "height": 34
        }
      },
      "source": [
        "#maximo do valor para 25% contas mais baratas?\n",
        "tips_data['total_conta'].quantile(.25)"
      ],
      "execution_count": null,
      "outputs": [
        {
          "output_type": "execute_result",
          "data": {
            "text/plain": [
              "13.3475"
            ]
          },
          "metadata": {
            "tags": []
          },
          "execution_count": 69
        }
      ]
    },
    {
      "cell_type": "code",
      "metadata": {
        "id": "sEuMwHt2FQx-"
      },
      "source": [
        "#contas até 13.35 estão entre as contas mais baratas do dataset, utilzamos o 1o quartil para responder essa questão pois 25% dos dados são iguais ou menores que ele."
      ],
      "execution_count": null,
      "outputs": []
    },
    {
      "cell_type": "code",
      "metadata": {
        "id": "r21yFJi5CARB",
        "outputId": "542c25cc-80ce-41ae-84ac-7618a236a322",
        "colab": {
          "base_uri": "https://localhost:8080/",
          "height": 34
        }
      },
      "source": [
        "#maximo do valor para 25% das contas mais caras?\n",
        "tips_data['total_conta'].quantile(.75)"
      ],
      "execution_count": null,
      "outputs": [
        {
          "output_type": "execute_result",
          "data": {
            "text/plain": [
              "24.127499999999998"
            ]
          },
          "metadata": {
            "tags": []
          },
          "execution_count": 76
        }
      ]
    },
    {
      "cell_type": "code",
      "metadata": {
        "id": "2T0K--bsGD0u",
        "outputId": "76349542-2c43-4dfc-8103-eae4e6a9f1f7",
        "colab": {
          "base_uri": "https://localhost:8080/",
          "height": 119
        }
      },
      "source": [
        "#mais homens ou mulheres fumantes que frequentam o restaurante? quantas mulheres e quantos homens são fumantes?\n",
        "tips_data.groupby('fumante')['genero'].value_counts()"
      ],
      "execution_count": null,
      "outputs": [
        {
          "output_type": "execute_result",
          "data": {
            "text/plain": [
              "fumante  genero   \n",
              "nao      Masculino    97\n",
              "         Feminino     54\n",
              "sim      Masculino    60\n",
              "         Feminino     33\n",
              "Name: genero, dtype: int64"
            ]
          },
          "metadata": {
            "tags": []
          },
          "execution_count": 91
        }
      ]
    },
    {
      "cell_type": "code",
      "metadata": {
        "id": "uxt7sHpjKp57",
        "outputId": "6d5cb147-b819-48fd-b4e6-cc2bae5f94db",
        "colab": {
          "base_uri": "https://localhost:8080/",
          "height": 187
        }
      },
      "source": [
        "#existe algum dia na semana que ha mais mulheres ou homens no restaurante? se sim, qual o dia?\n",
        "tips_data.groupby('genero')['dia'].value_counts()"
      ],
      "execution_count": null,
      "outputs": [
        {
          "output_type": "execute_result",
          "data": {
            "text/plain": [
              "genero     dia\n",
              "Feminino   qui    32\n",
              "           sab    28\n",
              "           dom    18\n",
              "           sex     9\n",
              "Masculino  sab    59\n",
              "           dom    58\n",
              "           qui    30\n",
              "           sex    10\n",
              "Name: dia, dtype: int64"
            ]
          },
          "metadata": {
            "tags": []
          },
          "execution_count": 93
        }
      ]
    },
    {
      "cell_type": "code",
      "metadata": {
        "id": "rIlnguAYMw40",
        "outputId": "753b5c4a-cf69-4c1a-8dcf-81701cc484e6",
        "colab": {
          "base_uri": "https://localhost:8080/",
          "height": 255
        }
      },
      "source": [
        "#moda das pessoas a mesa na hora do almoço e jantar? ou mais comum...\n",
        "tips_data.groupby('horario')['pessoas_mesa'].value_counts()"
      ],
      "execution_count": null,
      "outputs": [
        {
          "output_type": "execute_result",
          "data": {
            "text/plain": [
              "horario  pessoas_mesa\n",
              "almoco   2                52\n",
              "         3                 5\n",
              "         4                 5\n",
              "         6                 3\n",
              "         1                 2\n",
              "         5                 1\n",
              "jantar   2               104\n",
              "         3                33\n",
              "         4                32\n",
              "         5                 4\n",
              "         1                 2\n",
              "         6                 1\n",
              "Name: pessoas_mesa, dtype: int64"
            ]
          },
          "metadata": {
            "tags": []
          },
          "execution_count": 94
        }
      ]
    },
    {
      "cell_type": "code",
      "metadata": {
        "id": "1CVUgeL4NKt7",
        "outputId": "10f5e275-ac2a-4444-828f-3e08c5cfadcb",
        "colab": {
          "base_uri": "https://localhost:8080/",
          "height": 142
        }
      },
      "source": [
        "#em qual refeição o restaurante mais fatura?\n",
        "tips_data.groupby('horario')['total_conta'].agg(['sum','mean'])"
      ],
      "execution_count": null,
      "outputs": [
        {
          "output_type": "execute_result",
          "data": {
            "text/html": [
              "<div>\n",
              "<style scoped>\n",
              "    .dataframe tbody tr th:only-of-type {\n",
              "        vertical-align: middle;\n",
              "    }\n",
              "\n",
              "    .dataframe tbody tr th {\n",
              "        vertical-align: top;\n",
              "    }\n",
              "\n",
              "    .dataframe thead th {\n",
              "        text-align: right;\n",
              "    }\n",
              "</style>\n",
              "<table border=\"1\" class=\"dataframe\">\n",
              "  <thead>\n",
              "    <tr style=\"text-align: right;\">\n",
              "      <th></th>\n",
              "      <th>sum</th>\n",
              "      <th>mean</th>\n",
              "    </tr>\n",
              "    <tr>\n",
              "      <th>horario</th>\n",
              "      <th></th>\n",
              "      <th></th>\n",
              "    </tr>\n",
              "  </thead>\n",
              "  <tbody>\n",
              "    <tr>\n",
              "      <th>almoco</th>\n",
              "      <td>1167.47</td>\n",
              "      <td>17.168676</td>\n",
              "    </tr>\n",
              "    <tr>\n",
              "      <th>jantar</th>\n",
              "      <td>3660.30</td>\n",
              "      <td>20.797159</td>\n",
              "    </tr>\n",
              "  </tbody>\n",
              "</table>\n",
              "</div>"
            ],
            "text/plain": [
              "             sum       mean\n",
              "horario                    \n",
              "almoco   1167.47  17.168676\n",
              "jantar   3660.30  20.797159"
            ]
          },
          "metadata": {
            "tags": []
          },
          "execution_count": 95
        }
      ]
    },
    {
      "cell_type": "code",
      "metadata": {
        "id": "jZ2GyIuRNmXx",
        "outputId": "d6217c7a-aa01-4253-8a0c-2d6688ef50c1",
        "colab": {
          "base_uri": "https://localhost:8080/",
          "height": 142
        }
      },
      "source": [
        "#mostre a soma total e a média das contas por genero com um unico comando em Pandas\n",
        "tips_data.groupby('genero')['total_conta'].agg(['sum','mean'])"
      ],
      "execution_count": null,
      "outputs": [
        {
          "output_type": "execute_result",
          "data": {
            "text/html": [
              "<div>\n",
              "<style scoped>\n",
              "    .dataframe tbody tr th:only-of-type {\n",
              "        vertical-align: middle;\n",
              "    }\n",
              "\n",
              "    .dataframe tbody tr th {\n",
              "        vertical-align: top;\n",
              "    }\n",
              "\n",
              "    .dataframe thead th {\n",
              "        text-align: right;\n",
              "    }\n",
              "</style>\n",
              "<table border=\"1\" class=\"dataframe\">\n",
              "  <thead>\n",
              "    <tr style=\"text-align: right;\">\n",
              "      <th></th>\n",
              "      <th>sum</th>\n",
              "      <th>mean</th>\n",
              "    </tr>\n",
              "    <tr>\n",
              "      <th>genero</th>\n",
              "      <th></th>\n",
              "      <th></th>\n",
              "    </tr>\n",
              "  </thead>\n",
              "  <tbody>\n",
              "    <tr>\n",
              "      <th>Feminino</th>\n",
              "      <td>1570.95</td>\n",
              "      <td>18.056897</td>\n",
              "    </tr>\n",
              "    <tr>\n",
              "      <th>Masculino</th>\n",
              "      <td>3256.82</td>\n",
              "      <td>20.744076</td>\n",
              "    </tr>\n",
              "  </tbody>\n",
              "</table>\n",
              "</div>"
            ],
            "text/plain": [
              "               sum       mean\n",
              "genero                       \n",
              "Feminino   1570.95  18.056897\n",
              "Masculino  3256.82  20.744076"
            ]
          },
          "metadata": {
            "tags": []
          },
          "execution_count": 97
        }
      ]
    },
    {
      "cell_type": "code",
      "metadata": {
        "id": "a7qouxu8YIfw",
        "outputId": "4f9822e7-9595-4b72-f3c2-319f6c6b87e7",
        "colab": {
          "base_uri": "https://localhost:8080/",
          "height": 286
        }
      },
      "source": [
        "#visualizar o tempo_permanencia do cliente no restaurante com um histograma\n",
        "tips_data['tempo_permanencia'].plot.hist()"
      ],
      "execution_count": null,
      "outputs": [
        {
          "output_type": "execute_result",
          "data": {
            "text/plain": [
              "<matplotlib.axes._subplots.AxesSubplot at 0x7f2ac633f4a8>"
            ]
          },
          "metadata": {
            "tags": []
          },
          "execution_count": 100
        },
        {
          "output_type": "display_data",
          "data": {
            "image/png": "[encoded data removed]",
            "text/plain": [
              "<Figure size 432x288 with 1 Axes>"
            ]
          },
          "metadata": {
            "tags": []
          }
        }
      ]
    },
    {
      "cell_type": "code",
      "metadata": {
        "id": "aVgSr_oWYlrP",
        "outputId": "99c412cd-f936-44c4-a30e-e7526189b8f5",
        "colab": {
          "base_uri": "https://localhost:8080/",
          "height": 405
        }
      },
      "source": [
        "#visualizar a distribuição do valor da conta dos clientes com um boxplot\n",
        "plt.boxplot(tips_data['total_conta'])"
      ],
      "execution_count": null,
      "outputs": [
        {
          "output_type": "execute_result",
          "data": {
            "text/plain": [
              "{'boxes': [<matplotlib.lines.Line2D at 0x7f2ac3a9aa58>],\n",
              " 'caps': [<matplotlib.lines.Line2D at 0x7f2ac3aa2278>,\n",
              "  <matplotlib.lines.Line2D at 0x7f2ac3aa25c0>],\n",
              " 'fliers': [<matplotlib.lines.Line2D at 0x7f2ac3aa2c50>],\n",
              " 'means': [],\n",
              " 'medians': [<matplotlib.lines.Line2D at 0x7f2ac3aa2908>],\n",
              " 'whiskers': [<matplotlib.lines.Line2D at 0x7f2ac3a9aba8>,\n",
              "  <matplotlib.lines.Line2D at 0x7f2ac3a9aef0>]}"
            ]
          },
          "metadata": {
            "tags": []
          },
          "execution_count": 101
        },
        {
          "output_type": "display_data",
          "data": {
            "image/png": "[encoded data removed]",
            "text/plain": [
              "<Figure size 432x288 with 1 Axes>"
            ]
          },
          "metadata": {
            "tags": []
          }
        }
      ]
    },
    {
      "cell_type": "code",
      "metadata": {
        "id": "VZJCrUmKZEB3",
        "outputId": "19196c5c-33a7-48b2-d73b-bf8c514315e6",
        "colab": {
          "base_uri": "https://localhost:8080/",
          "height": 320
        }
      },
      "source": [
        "tips_data['tempo_permanencia'].plot.hist(bins=7, colors='magenta')"
      ],
      "execution_count": null,
      "outputs": [
        {
          "output_type": "stream",
          "text": [
            "/usr/local/lib/python3.6/dist-packages/pandas/plotting/_core.py:185: UserWarning: 'colors' is being deprecated. Please use 'color'instead of 'colors'\n",
            "  warnings.warn((\"'colors' is being deprecated. Please use 'color'\"\n"
          ],
          "name": "stderr"
        },
        {
          "output_type": "execute_result",
          "data": {
            "text/plain": [
              "<matplotlib.axes._subplots.AxesSubplot at 0x7f2ac3792d68>"
            ]
          },
          "metadata": {
            "tags": []
          },
          "execution_count": 116
        },
        {
          "output_type": "display_data",
          "data": {
            "image/png": "[encoded data removed]",
            "text/plain": [
              "<Figure size 432x288 with 1 Axes>"
            ]
          },
          "metadata": {
            "tags": []
          }
        }
      ]
    },
    {
      "cell_type": "code",
      "metadata": {
        "id": "ertDOHqXaFaC",
        "outputId": "673d4619-bf6f-4aba-d89c-3e2333585927",
        "colab": {
          "base_uri": "https://localhost:8080/",
          "height": 296
        }
      },
      "source": [
        "#outras possibilidades de histograma\n",
        "plt.hist(tips_data['tempo_permanencia'])\n",
        "plt.title('Histograma:Tempo de Permanência')\n",
        "plt.xlabel('tempo_permanencia')\n",
        "plt.ylabel('Frequência');"
      ],
      "execution_count": null,
      "outputs": [
        {
          "output_type": "display_data",
          "data": {
            "image/png": "[encoded data removed]",
            "text/plain": [
              "<Figure size 432x288 with 1 Axes>"
            ]
          },
          "metadata": {
            "tags": []
          }
        }
      ]
    },
    {
      "cell_type": "code",
      "metadata": {
        "id": "PQO4ab3ZaoQ3",
        "outputId": "7bc6e09e-c6a2-43fa-b7cc-543636589f51",
        "colab": {
          "base_uri": "https://localhost:8080/",
          "height": 34
        }
      },
      "source": [
        "#qual a variância do tempo de permanencia dos clientes no restaurante? varia muito em relação à media? E o desvio padrão?\n",
        "tips_data['tempo_permanencia'].var()"
      ],
      "execution_count": null,
      "outputs": [
        {
          "output_type": "execute_result",
          "data": {
            "text/plain": [
              "26.59758483437902"
            ]
          },
          "metadata": {
            "tags": []
          },
          "execution_count": 117
        }
      ]
    },
    {
      "cell_type": "code",
      "metadata": {
        "id": "0ulB0oZGf1hu",
        "outputId": "e777f763-97e5-42c4-aee9-e59d86e474ab",
        "colab": {
          "base_uri": "https://localhost:8080/",
          "height": 34
        }
      },
      "source": [
        "tips_data['tempo_permanencia'].std()"
      ],
      "execution_count": null,
      "outputs": [
        {
          "output_type": "execute_result",
          "data": {
            "text/plain": [
              "5.157284637711886"
            ]
          },
          "metadata": {
            "tags": []
          },
          "execution_count": 120
        }
      ]
    },
    {
      "cell_type": "code",
      "metadata": {
        "id": "dZDUmo5LfPbK",
        "outputId": "1eb16c9e-c916-41a6-aa3e-d1702504fb9f",
        "colab": {
          "base_uri": "https://localhost:8080/",
          "height": 34
        }
      },
      "source": [
        "#valor da fatura varia muito entre homens e mulheres? selecione a melhor medida para comparar um grupo ao outro\n",
        "tips_data['total_conta'].std()"
      ],
      "execution_count": null,
      "outputs": [
        {
          "output_type": "execute_result",
          "data": {
            "text/plain": [
              "8.902411954856856"
            ]
          },
          "metadata": {
            "tags": []
          },
          "execution_count": 121
        }
      ]
    },
    {
      "cell_type": "code",
      "metadata": {
        "id": "SXuE3jTTgRXy",
        "outputId": "78e6f026-6fd6-4c6a-fcb4-4f4b27592c1a",
        "colab": {
          "base_uri": "https://localhost:8080/",
          "height": 34
        }
      },
      "source": [
        "tips_data[tips_data['genero']=='Feminino']['total_conta'].std()"
      ],
      "execution_count": null,
      "outputs": [
        {
          "output_type": "execute_result",
          "data": {
            "text/plain": [
              "8.009208988951961"
            ]
          },
          "metadata": {
            "tags": []
          },
          "execution_count": 122
        }
      ]
    },
    {
      "cell_type": "code",
      "metadata": {
        "id": "GnehibjogkJ9",
        "outputId": "311dbac3-5e8b-4fc7-a2d8-f918622dd7f8",
        "colab": {
          "base_uri": "https://localhost:8080/",
          "height": 34
        }
      },
      "source": [
        "tips_data[tips_data['genero']=='Masculino']['total_conta'].std()"
      ],
      "execution_count": null,
      "outputs": [
        {
          "output_type": "execute_result",
          "data": {
            "text/plain": [
              "9.24646876154476"
            ]
          },
          "metadata": {
            "tags": []
          },
          "execution_count": 123
        }
      ]
    },
    {
      "cell_type": "code",
      "metadata": {
        "id": "z5F4ktvggwnZ",
        "outputId": "0be39023-a198-4134-d3c2-ec4450186006",
        "colab": {
          "base_uri": "https://localhost:8080/",
          "height": 85
        }
      },
      "source": [
        "tips_data.groupby('genero')['total_conta'].std()"
      ],
      "execution_count": null,
      "outputs": [
        {
          "output_type": "execute_result",
          "data": {
            "text/plain": [
              "genero\n",
              "Feminino     8.009209\n",
              "Masculino    9.246469\n",
              "Name: total_conta, dtype: float64"
            ]
          },
          "metadata": {
            "tags": []
          },
          "execution_count": 124
        }
      ]
    },
    {
      "cell_type": "code",
      "metadata": {
        "id": "gAVuLp4GhGoK",
        "outputId": "5517edc6-41f3-47ef-83b6-3132cb7cb27b",
        "colab": {
          "base_uri": "https://localhost:8080/",
          "height": 297
        }
      },
      "source": [
        "#describe de variáveis quantitaivas\n",
        "tips_data.describe()"
      ],
      "execution_count": null,
      "outputs": [
        {
          "output_type": "execute_result",
          "data": {
            "text/html": [
              "<div>\n",
              "<style scoped>\n",
              "    .dataframe tbody tr th:only-of-type {\n",
              "        vertical-align: middle;\n",
              "    }\n",
              "\n",
              "    .dataframe tbody tr th {\n",
              "        vertical-align: top;\n",
              "    }\n",
              "\n",
              "    .dataframe thead th {\n",
              "        text-align: right;\n",
              "    }\n",
              "</style>\n",
              "<table border=\"1\" class=\"dataframe\">\n",
              "  <thead>\n",
              "    <tr style=\"text-align: right;\">\n",
              "      <th></th>\n",
              "      <th>total_conta</th>\n",
              "      <th>gorjeta</th>\n",
              "      <th>pessoas_mesa</th>\n",
              "      <th>tempo_permanencia</th>\n",
              "    </tr>\n",
              "  </thead>\n",
              "  <tbody>\n",
              "    <tr>\n",
              "      <th>count</th>\n",
              "      <td>244.000000</td>\n",
              "      <td>244.000000</td>\n",
              "      <td>244.000000</td>\n",
              "      <td>244.000000</td>\n",
              "    </tr>\n",
              "    <tr>\n",
              "      <th>mean</th>\n",
              "      <td>19.785943</td>\n",
              "      <td>2.998279</td>\n",
              "      <td>2.569672</td>\n",
              "      <td>40.262295</td>\n",
              "    </tr>\n",
              "    <tr>\n",
              "      <th>std</th>\n",
              "      <td>8.902412</td>\n",
              "      <td>1.383638</td>\n",
              "      <td>0.951100</td>\n",
              "      <td>5.157285</td>\n",
              "    </tr>\n",
              "    <tr>\n",
              "      <th>min</th>\n",
              "      <td>3.070000</td>\n",
              "      <td>1.000000</td>\n",
              "      <td>1.000000</td>\n",
              "      <td>26.000000</td>\n",
              "    </tr>\n",
              "    <tr>\n",
              "      <th>25%</th>\n",
              "      <td>13.347500</td>\n",
              "      <td>2.000000</td>\n",
              "      <td>2.000000</td>\n",
              "      <td>37.000000</td>\n",
              "    </tr>\n",
              "    <tr>\n",
              "      <th>50%</th>\n",
              "      <td>17.795000</td>\n",
              "      <td>2.900000</td>\n",
              "      <td>2.000000</td>\n",
              "      <td>40.000000</td>\n",
              "    </tr>\n",
              "    <tr>\n",
              "      <th>75%</th>\n",
              "      <td>24.127500</td>\n",
              "      <td>3.562500</td>\n",
              "      <td>3.000000</td>\n",
              "      <td>44.000000</td>\n",
              "    </tr>\n",
              "    <tr>\n",
              "      <th>max</th>\n",
              "      <td>50.810000</td>\n",
              "      <td>10.000000</td>\n",
              "      <td>6.000000</td>\n",
              "      <td>53.000000</td>\n",
              "    </tr>\n",
              "  </tbody>\n",
              "</table>\n",
              "</div>"
            ],
            "text/plain": [
              "       total_conta     gorjeta  pessoas_mesa  tempo_permanencia\n",
              "count   244.000000  244.000000    244.000000         244.000000\n",
              "mean     19.785943    2.998279      2.569672          40.262295\n",
              "std       8.902412    1.383638      0.951100           5.157285\n",
              "min       3.070000    1.000000      1.000000          26.000000\n",
              "25%      13.347500    2.000000      2.000000          37.000000\n",
              "50%      17.795000    2.900000      2.000000          40.000000\n",
              "75%      24.127500    3.562500      3.000000          44.000000\n",
              "max      50.810000   10.000000      6.000000          53.000000"
            ]
          },
          "metadata": {
            "tags": []
          },
          "execution_count": 127
        }
      ]
    },
    {
      "cell_type": "code",
      "metadata": {
        "id": "dNCu9ZBzhn54",
        "outputId": "ff724eb2-6b82-4cc2-bc18-b355caeb9cca",
        "colab": {
          "base_uri": "https://localhost:8080/",
          "height": 173
        }
      },
      "source": [
        "tips_data.describe().T"
      ],
      "execution_count": null,
      "outputs": [
        {
          "output_type": "execute_result",
          "data": {
            "text/html": [
              "<div>\n",
              "<style scoped>\n",
              "    .dataframe tbody tr th:only-of-type {\n",
              "        vertical-align: middle;\n",
              "    }\n",
              "\n",
              "    .dataframe tbody tr th {\n",
              "        vertical-align: top;\n",
              "    }\n",
              "\n",
              "    .dataframe thead th {\n",
              "        text-align: right;\n",
              "    }\n",
              "</style>\n",
              "<table border=\"1\" class=\"dataframe\">\n",
              "  <thead>\n",
              "    <tr style=\"text-align: right;\">\n",
              "      <th></th>\n",
              "      <th>count</th>\n",
              "      <th>mean</th>\n",
              "      <th>std</th>\n",
              "      <th>min</th>\n",
              "      <th>25%</th>\n",
              "      <th>50%</th>\n",
              "      <th>75%</th>\n",
              "      <th>max</th>\n",
              "    </tr>\n",
              "  </thead>\n",
              "  <tbody>\n",
              "    <tr>\n",
              "      <th>total_conta</th>\n",
              "      <td>244.0</td>\n",
              "      <td>19.785943</td>\n",
              "      <td>8.902412</td>\n",
              "      <td>3.07</td>\n",
              "      <td>13.3475</td>\n",
              "      <td>17.795</td>\n",
              "      <td>24.1275</td>\n",
              "      <td>50.81</td>\n",
              "    </tr>\n",
              "    <tr>\n",
              "      <th>gorjeta</th>\n",
              "      <td>244.0</td>\n",
              "      <td>2.998279</td>\n",
              "      <td>1.383638</td>\n",
              "      <td>1.00</td>\n",
              "      <td>2.0000</td>\n",
              "      <td>2.900</td>\n",
              "      <td>3.5625</td>\n",
              "      <td>10.00</td>\n",
              "    </tr>\n",
              "    <tr>\n",
              "      <th>pessoas_mesa</th>\n",
              "      <td>244.0</td>\n",
              "      <td>2.569672</td>\n",
              "      <td>0.951100</td>\n",
              "      <td>1.00</td>\n",
              "      <td>2.0000</td>\n",
              "      <td>2.000</td>\n",
              "      <td>3.0000</td>\n",
              "      <td>6.00</td>\n",
              "    </tr>\n",
              "    <tr>\n",
              "      <th>tempo_permanencia</th>\n",
              "      <td>244.0</td>\n",
              "      <td>40.262295</td>\n",
              "      <td>5.157285</td>\n",
              "      <td>26.00</td>\n",
              "      <td>37.0000</td>\n",
              "      <td>40.000</td>\n",
              "      <td>44.0000</td>\n",
              "      <td>53.00</td>\n",
              "    </tr>\n",
              "  </tbody>\n",
              "</table>\n",
              "</div>"
            ],
            "text/plain": [
              "                   count       mean       std  ...     50%      75%    max\n",
              "total_conta        244.0  19.785943  8.902412  ...  17.795  24.1275  50.81\n",
              "gorjeta            244.0   2.998279  1.383638  ...   2.900   3.5625  10.00\n",
              "pessoas_mesa       244.0   2.569672  0.951100  ...   2.000   3.0000   6.00\n",
              "tempo_permanencia  244.0  40.262295  5.157285  ...  40.000  44.0000  53.00\n",
              "\n",
              "[4 rows x 8 columns]"
            ]
          },
          "metadata": {
            "tags": []
          },
          "execution_count": 133
        }
      ]
    },
    {
      "cell_type": "code",
      "metadata": {
        "id": "rcpWBcQeiF1C",
        "outputId": "041d56fa-6cbe-4c3b-fbf7-423b6e8c3eeb",
        "colab": {
          "base_uri": "https://localhost:8080/",
          "height": 170
        }
      },
      "source": [
        "#visualizar as informações do faturamento\n",
        "tips_data['total_conta'].describe()"
      ],
      "execution_count": null,
      "outputs": [
        {
          "output_type": "execute_result",
          "data": {
            "text/plain": [
              "count    244.000000\n",
              "mean      19.785943\n",
              "std        8.902412\n",
              "min        3.070000\n",
              "25%       13.347500\n",
              "50%       17.795000\n",
              "75%       24.127500\n",
              "max       50.810000\n",
              "Name: total_conta, dtype: float64"
            ]
          },
          "metadata": {
            "tags": []
          },
          "execution_count": 150
        }
      ]
    },
    {
      "cell_type": "code",
      "metadata": {
        "id": "JtbryDTsi3XY"
      },
      "source": [
        "#mostra variáveis numéricas"
      ],
      "execution_count": null,
      "outputs": []
    },
    {
      "cell_type": "code",
      "metadata": {
        "id": "PFQDx_2xk0IV"
      },
      "source": [
        "#data-to-viz.com\n",
        "#podcast pizzadedados.com\n",
        "#hackerhanks\n"
      ],
      "execution_count": null,
      "outputs": []
    }
  ]
}