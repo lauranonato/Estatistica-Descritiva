{
  "nbformat": 4,
  "nbformat_minor": 0,
  "metadata": {
    "colab": {
      "name": "Jogo da velha",
      "provenance": [],
      "authorship_tag": "ABX9TyNSOEBFPnj/gGRX2CIFKE9D",
      "include_colab_link": true
    },
    "kernelspec": {
      "name": "python3",
      "display_name": "Python 3"
    }
  },
  "cells": [
    {
      "cell_type": "markdown",
      "metadata": {
        "id": "view-in-github",
        "colab_type": "text"
      },
      "source": [
        "<a href=\"https://colab.research.google.com/github/lauranonato/Estatistica-Descritiva/blob/main/Jogo_da_velha.ipynb\" target=\"_parent\"><img src=\"https://colab.research.google.com/assets/colab-badge.svg\" alt=\"Open In Colab\"/></a>"
      ]
    },
    {
      "cell_type": "code",
      "metadata": {
        "colab": {
          "base_uri": "https://localhost:8080/"
        },
        "id": "Q2IkH3C1dDtC",
        "outputId": "78c8c812-ae66-4e2c-e35c-7bea5183eaa6"
      },
      "source": [
        "X = \"X\"\n",
        "O = \"O\"\n",
        "VAZIO = \" \"\n",
        "\n",
        "# tabuleiro = [0, 1, 2,\n",
        "#              3, 4, 5,\n",
        "#              6, 7, 8]\n",
        "\n",
        "# tabuleiro = [X, O, X,\n",
        "#              O, X, O,\n",
        "#              O, VAZIO, X]\n",
        "\n",
        "# tabuleiro = [VAZIO, VAZIO, VAZIO,\n",
        "#              VAZIO, VAZIO, VAZIO,\n",
        "#              VAZIO, VAZIO, VAZIO]\n",
        "#\n",
        "# tabuleiro = [X, O, X,\n",
        "#              X, X, VAZIO,\n",
        "#              O, O, O]\n",
        "#\n",
        "tabuleiro = [X, O, X,\n",
        "             O, X, O,\n",
        "             O, X, O]\n",
        "\n",
        "alinhamento = False\n",
        "vencedor = VAZIO\n",
        "\n",
        "# horizontal\n",
        "for i in range(0, 9, 3):\n",
        "    if tabuleiro[i] == tabuleiro[i+1] == tabuleiro[i+2] != VAZIO:\n",
        "        alinhamento = True\n",
        "        vencedor = tabuleiro[i]\n",
        "\n",
        "# vertical\n",
        "if not alinhamento:\n",
        "    for i in range(3):\n",
        "        if tabuleiro[i] == tabuleiro[i+3] == tabuleiro[i+6] != VAZIO:\n",
        "            alinhamento = True\n",
        "            vencedor = tabuleiro[i]\n",
        "\n",
        "# diagonal\n",
        "if not alinhamento:\n",
        "    for i in range(0, 3, 2):\n",
        "        if tabuleiro[0+i] == tabuleiro[4] == tabuleiro[8-i] != VAZIO:\n",
        "            alinhamento = True\n",
        "            vencedor = tabuleiro[i]\n",
        "\n",
        "if alinhamento:\n",
        "    print(\"Vencedor: \", vencedor)\n",
        "else:\n",
        "    if not VAZIO in tabuleiro:\n",
        "        print(\"Jogou empatou: Deu velha!\")"
      ],
      "execution_count": null,
      "outputs": [
        {
          "output_type": "stream",
          "text": [
            "Jogou empatou: Deu velha!\n"
          ],
          "name": "stdout"
        }
      ]
    }
  ]
}